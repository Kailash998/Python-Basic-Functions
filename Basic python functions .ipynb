{
 "cells": [
  {
   "cell_type": "code",
   "execution_count": 1,
   "id": "e635d174",
   "metadata": {},
   "outputs": [],
   "source": [
    "emp_name=['raghu','ramya','kumar','arjun']\n",
    "emp_age=[32,23,28,29]\n",
    "emp_exp=[3,4,5,2]\n"
   ]
  },
  {
   "cell_type": "code",
   "execution_count": 2,
   "id": "7c5fad06",
   "metadata": {},
   "outputs": [
    {
     "data": {
      "text/plain": [
       "list"
      ]
     },
     "execution_count": 2,
     "metadata": {},
     "output_type": "execute_result"
    }
   ],
   "source": [
    "type(emp_name)"
   ]
  },
  {
   "cell_type": "code",
   "execution_count": 2,
   "id": "542a8b45",
   "metadata": {},
   "outputs": [
    {
     "name": "stdout",
     "output_type": "stream",
     "text": [
      "<class 'list'>\n"
     ]
    }
   ],
   "source": [
    "print(type(emp_name))"
   ]
  },
  {
   "cell_type": "code",
   "execution_count": 3,
   "id": "9d195f52",
   "metadata": {},
   "outputs": [],
   "source": [
    "emp_detail=['raghu','32','3','mtech']"
   ]
  },
  {
   "cell_type": "code",
   "execution_count": 4,
   "id": "edf6060d",
   "metadata": {},
   "outputs": [
    {
     "data": {
      "text/plain": [
       "list"
      ]
     },
     "execution_count": 4,
     "metadata": {},
     "output_type": "execute_result"
    }
   ],
   "source": [
    "type(emp_detail)"
   ]
  },
  {
   "cell_type": "code",
   "execution_count": 7,
   "id": "7c45385c",
   "metadata": {},
   "outputs": [
    {
     "data": {
      "text/plain": [
       "['raghu', 'ramya']"
      ]
     },
     "execution_count": 7,
     "metadata": {},
     "output_type": "execute_result"
    }
   ],
   "source": [
    "emp_name[0:2] #end limit is excluded"
   ]
  },
  {
   "cell_type": "code",
   "execution_count": 8,
   "id": "fee7f2c8",
   "metadata": {},
   "outputs": [
    {
     "data": {
      "text/plain": [
       "'ramya'"
      ]
     },
     "execution_count": 8,
     "metadata": {},
     "output_type": "execute_result"
    }
   ],
   "source": [
    "emp_name[-3]"
   ]
  },
  {
   "cell_type": "code",
   "execution_count": 9,
   "id": "b25e8026",
   "metadata": {},
   "outputs": [
    {
     "data": {
      "text/plain": [
       "[]"
      ]
     },
     "execution_count": 9,
     "metadata": {},
     "output_type": "execute_result"
    }
   ],
   "source": [
    "emp_name[-2:-4]"
   ]
  },
  {
   "cell_type": "code",
   "execution_count": 10,
   "id": "54cb332a",
   "metadata": {},
   "outputs": [
    {
     "data": {
      "text/plain": [
       "[]"
      ]
     },
     "execution_count": 10,
     "metadata": {},
     "output_type": "execute_result"
    }
   ],
   "source": [
    "emp_name[-3:-4]"
   ]
  },
  {
   "cell_type": "code",
   "execution_count": 11,
   "id": "58b02a80",
   "metadata": {},
   "outputs": [
    {
     "data": {
      "text/plain": [
       "[]"
      ]
     },
     "execution_count": 11,
     "metadata": {},
     "output_type": "execute_result"
    }
   ],
   "source": [
    "emp_name[-1:-4]"
   ]
  },
  {
   "cell_type": "code",
   "execution_count": 12,
   "id": "974bd993",
   "metadata": {},
   "outputs": [
    {
     "data": {
      "text/plain": [
       "['raghu', 'ramya', 'kumar']"
      ]
     },
     "execution_count": 12,
     "metadata": {},
     "output_type": "execute_result"
    }
   ],
   "source": [
    "emp_name[-4:-1]"
   ]
  },
  {
   "cell_type": "code",
   "execution_count": 13,
   "id": "03d78668",
   "metadata": {},
   "outputs": [
    {
     "data": {
      "text/plain": [
       "'arjun'"
      ]
     },
     "execution_count": 13,
     "metadata": {},
     "output_type": "execute_result"
    }
   ],
   "source": [
    "emp_name[3]"
   ]
  },
  {
   "cell_type": "code",
   "execution_count": 14,
   "id": "6fc1e315",
   "metadata": {},
   "outputs": [
    {
     "data": {
      "text/plain": [
       "['ramya', 'kumar']"
      ]
     },
     "execution_count": 14,
     "metadata": {},
     "output_type": "execute_result"
    }
   ],
   "source": [
    "emp_name[1:3]"
   ]
  },
  {
   "cell_type": "code",
   "execution_count": 16,
   "id": "cebc27dc",
   "metadata": {},
   "outputs": [],
   "source": [
    "emp_name.append('krishna')"
   ]
  },
  {
   "cell_type": "code",
   "execution_count": 17,
   "id": "00f21548",
   "metadata": {},
   "outputs": [
    {
     "data": {
      "text/plain": [
       "['raghu', 'ramya', 'kumar', 'arjun', 'krishna']"
      ]
     },
     "execution_count": 17,
     "metadata": {},
     "output_type": "execute_result"
    }
   ],
   "source": [
    "emp_name"
   ]
  },
  {
   "cell_type": "code",
   "execution_count": 19,
   "id": "fca79ded",
   "metadata": {},
   "outputs": [],
   "source": [
    "emp_name_dept2=['raghu','ram','ashwini','shiva']"
   ]
  },
  {
   "cell_type": "code",
   "execution_count": 20,
   "id": "e7cbbe12",
   "metadata": {},
   "outputs": [],
   "source": [
    "emp_name.append(emp_name_dept2)"
   ]
  },
  {
   "cell_type": "code",
   "execution_count": 21,
   "id": "4836c694",
   "metadata": {},
   "outputs": [
    {
     "data": {
      "text/plain": [
       "['raghu',\n",
       " 'ramya',\n",
       " 'kumar',\n",
       " 'arjun',\n",
       " 'krishna',\n",
       " ['raghu', 'ram', 'ashwini', 'shiva']]"
      ]
     },
     "execution_count": 21,
     "metadata": {},
     "output_type": "execute_result"
    }
   ],
   "source": [
    "emp_name"
   ]
  },
  {
   "cell_type": "code",
   "execution_count": 22,
   "id": "7bea77ae",
   "metadata": {},
   "outputs": [],
   "source": [
    "emp_name_dept1=['raghu','ramya','kumar','arjun']"
   ]
  },
  {
   "cell_type": "code",
   "execution_count": 23,
   "id": "51e6c252",
   "metadata": {},
   "outputs": [],
   "source": [
    "emp_name_dept1.extend(emp_name_dept2)"
   ]
  },
  {
   "cell_type": "code",
   "execution_count": 25,
   "id": "ba855525",
   "metadata": {},
   "outputs": [
    {
     "data": {
      "text/plain": [
       "['raghu', 'ramya', 'kumar', 'arjun', 'raghu', 'ram', 'ashwini', 'shiva']"
      ]
     },
     "execution_count": 25,
     "metadata": {},
     "output_type": "execute_result"
    }
   ],
   "source": [
    "emp_name_dept1"
   ]
  },
  {
   "cell_type": "code",
   "execution_count": 26,
   "id": "9739897a",
   "metadata": {},
   "outputs": [],
   "source": [
    "#emp_name_dept1 + emp_name_dept2 can be added with .extend"
   ]
  },
  {
   "cell_type": "code",
   "execution_count": 27,
   "id": "bd75fc48",
   "metadata": {},
   "outputs": [],
   "source": [
    "emp_name_dept1[0]='raghu-dept1' #used to change the detail in list"
   ]
  },
  {
   "cell_type": "code",
   "execution_count": 28,
   "id": "e4ec5fdb",
   "metadata": {},
   "outputs": [
    {
     "data": {
      "text/plain": [
       "['raghu-dept1', 'ramya', 'kumar', 'arjun', 'raghu', 'ram', 'ashwini', 'shiva']"
      ]
     },
     "execution_count": 28,
     "metadata": {},
     "output_type": "execute_result"
    }
   ],
   "source": [
    "emp_name_dept1"
   ]
  },
  {
   "cell_type": "code",
   "execution_count": 29,
   "id": "9b0abe99",
   "metadata": {},
   "outputs": [],
   "source": [
    "emp_name_dept1[2:5]=['e1','e2','e3']"
   ]
  },
  {
   "cell_type": "code",
   "execution_count": 30,
   "id": "d58b1d6a",
   "metadata": {},
   "outputs": [
    {
     "data": {
      "text/plain": [
       "['raghu-dept1', 'ramya', 'e1', 'e2', 'e3', 'ram', 'ashwini', 'shiva']"
      ]
     },
     "execution_count": 30,
     "metadata": {},
     "output_type": "execute_result"
    }
   ],
   "source": [
    "emp_name_dept1"
   ]
  },
  {
   "cell_type": "code",
   "execution_count": 31,
   "id": "2acd9a75",
   "metadata": {},
   "outputs": [],
   "source": [
    "emp_name_dept1.append('sathya_team_lead')"
   ]
  },
  {
   "cell_type": "code",
   "execution_count": 32,
   "id": "b1b6acdd",
   "metadata": {},
   "outputs": [
    {
     "data": {
      "text/plain": [
       "['raghu-dept1',\n",
       " 'ramya',\n",
       " 'e1',\n",
       " 'e2',\n",
       " 'e3',\n",
       " 'ram',\n",
       " 'ashwini',\n",
       " 'shiva',\n",
       " 'sathya_team_lead']"
      ]
     },
     "execution_count": 32,
     "metadata": {},
     "output_type": "execute_result"
    }
   ],
   "source": [
    "emp_name_dept1"
   ]
  },
  {
   "cell_type": "code",
   "execution_count": 36,
   "id": "8a616e5b",
   "metadata": {},
   "outputs": [],
   "source": [
    "emp_name_dept1.insert(0,'sathya_team_lead')"
   ]
  },
  {
   "cell_type": "code",
   "execution_count": 37,
   "id": "6f684030",
   "metadata": {},
   "outputs": [
    {
     "data": {
      "text/plain": [
       "['sathya_team_lead',\n",
       " 'raghu-dept1',\n",
       " 'ramya',\n",
       " 'e1',\n",
       " 'e2',\n",
       " 'e3',\n",
       " 'ram',\n",
       " 'ashwini',\n",
       " 'shiva',\n",
       " 'sathya_team_lead']"
      ]
     },
     "execution_count": 37,
     "metadata": {},
     "output_type": "execute_result"
    }
   ],
   "source": [
    "emp_name_dept1"
   ]
  },
  {
   "cell_type": "code",
   "execution_count": 38,
   "id": "a7d76276",
   "metadata": {},
   "outputs": [],
   "source": [
    "emp_name_dept1.insert(2,'ranjan')"
   ]
  },
  {
   "cell_type": "code",
   "execution_count": 39,
   "id": "4cd327ce",
   "metadata": {},
   "outputs": [
    {
     "data": {
      "text/plain": [
       "['sathya_team_lead',\n",
       " 'raghu-dept1',\n",
       " 'ranjan',\n",
       " 'ramya',\n",
       " 'e1',\n",
       " 'e2',\n",
       " 'e3',\n",
       " 'ram',\n",
       " 'ashwini',\n",
       " 'shiva',\n",
       " 'sathya_team_lead']"
      ]
     },
     "execution_count": 39,
     "metadata": {},
     "output_type": "execute_result"
    }
   ],
   "source": [
    "emp_name_dept1"
   ]
  },
  {
   "cell_type": "code",
   "execution_count": 40,
   "id": "7496707b",
   "metadata": {},
   "outputs": [],
   "source": [
    "emp_name_dept1.remove('e3')# to remove an elemnt type1"
   ]
  },
  {
   "cell_type": "code",
   "execution_count": 41,
   "id": "12725886",
   "metadata": {},
   "outputs": [
    {
     "data": {
      "text/plain": [
       "['sathya_team_lead',\n",
       " 'raghu-dept1',\n",
       " 'ranjan',\n",
       " 'ramya',\n",
       " 'e1',\n",
       " 'e2',\n",
       " 'ram',\n",
       " 'ashwini',\n",
       " 'shiva',\n",
       " 'sathya_team_lead']"
      ]
     },
     "execution_count": 41,
     "metadata": {},
     "output_type": "execute_result"
    }
   ],
   "source": [
    "emp_name_dept1"
   ]
  },
  {
   "cell_type": "code",
   "execution_count": 43,
   "id": "6a6973cd",
   "metadata": {},
   "outputs": [],
   "source": [
    "del emp_name_dept1[-1] #del space type2"
   ]
  },
  {
   "cell_type": "code",
   "execution_count": 44,
   "id": "382da6ae",
   "metadata": {},
   "outputs": [
    {
     "data": {
      "text/plain": [
       "['sathya_team_lead',\n",
       " 'raghu-dept1',\n",
       " 'ranjan',\n",
       " 'ramya',\n",
       " 'e1',\n",
       " 'e2',\n",
       " 'ram',\n",
       " 'ashwini',\n",
       " 'shiva']"
      ]
     },
     "execution_count": 44,
     "metadata": {},
     "output_type": "execute_result"
    }
   ],
   "source": [
    "emp_name_dept1"
   ]
  },
  {
   "cell_type": "code",
   "execution_count": 45,
   "id": "b87c7be7",
   "metadata": {},
   "outputs": [
    {
     "data": {
      "text/plain": [
       "'e2'"
      ]
     },
     "execution_count": 45,
     "metadata": {},
     "output_type": "execute_result"
    }
   ],
   "source": [
    "emp_name_dept1.pop(5)"
   ]
  },
  {
   "cell_type": "code",
   "execution_count": 46,
   "id": "542e4a35",
   "metadata": {},
   "outputs": [
    {
     "data": {
      "text/plain": [
       "['sathya_team_lead',\n",
       " 'raghu-dept1',\n",
       " 'ranjan',\n",
       " 'ramya',\n",
       " 'e1',\n",
       " 'ram',\n",
       " 'ashwini',\n",
       " 'shiva']"
      ]
     },
     "execution_count": 46,
     "metadata": {},
     "output_type": "execute_result"
    }
   ],
   "source": [
    "emp_name_dept1"
   ]
  },
  {
   "cell_type": "code",
   "execution_count": 47,
   "id": "78be4926",
   "metadata": {},
   "outputs": [],
   "source": [
    "emp_name_dept1.sort()"
   ]
  },
  {
   "cell_type": "code",
   "execution_count": 48,
   "id": "424a8b9e",
   "metadata": {},
   "outputs": [
    {
     "data": {
      "text/plain": [
       "['ashwini',\n",
       " 'e1',\n",
       " 'raghu-dept1',\n",
       " 'ram',\n",
       " 'ramya',\n",
       " 'ranjan',\n",
       " 'sathya_team_lead',\n",
       " 'shiva']"
      ]
     },
     "execution_count": 48,
     "metadata": {},
     "output_type": "execute_result"
    }
   ],
   "source": [
    "emp_name_dept1"
   ]
  },
  {
   "cell_type": "code",
   "execution_count": 53,
   "id": "14019d93",
   "metadata": {},
   "outputs": [],
   "source": [
    "emp_name_dept1.sort(reverse=True)"
   ]
  },
  {
   "cell_type": "code",
   "execution_count": 51,
   "id": "aceb7ad7",
   "metadata": {},
   "outputs": [],
   "source": [
    "emp_age.sort()"
   ]
  },
  {
   "cell_type": "code",
   "execution_count": 52,
   "id": "31b96817",
   "metadata": {},
   "outputs": [
    {
     "data": {
      "text/plain": [
       "[23, 28, 29, 32]"
      ]
     },
     "execution_count": 52,
     "metadata": {},
     "output_type": "execute_result"
    }
   ],
   "source": [
    "emp_age"
   ]
  },
  {
   "cell_type": "code",
   "execution_count": 54,
   "id": "564f7e31",
   "metadata": {},
   "outputs": [
    {
     "data": {
      "text/plain": [
       "['shiva',\n",
       " 'sathya_team_lead',\n",
       " 'ranjan',\n",
       " 'ramya',\n",
       " 'ram',\n",
       " 'raghu-dept1',\n",
       " 'e1',\n",
       " 'ashwini']"
      ]
     },
     "execution_count": 54,
     "metadata": {},
     "output_type": "execute_result"
    }
   ],
   "source": [
    "emp_name_dept1"
   ]
  },
  {
   "cell_type": "code",
   "execution_count": 55,
   "id": "9b3f6d2f",
   "metadata": {},
   "outputs": [],
   "source": [
    "emp_name_dept1[-2]='E1'"
   ]
  },
  {
   "cell_type": "code",
   "execution_count": 56,
   "id": "e0466c20",
   "metadata": {},
   "outputs": [
    {
     "data": {
      "text/plain": [
       "['shiva',\n",
       " 'sathya_team_lead',\n",
       " 'ranjan',\n",
       " 'ramya',\n",
       " 'ram',\n",
       " 'raghu-dept1',\n",
       " 'E1',\n",
       " 'ashwini']"
      ]
     },
     "execution_count": 56,
     "metadata": {},
     "output_type": "execute_result"
    }
   ],
   "source": [
    "emp_name_dept1"
   ]
  },
  {
   "cell_type": "code",
   "execution_count": 57,
   "id": "e7c4684d",
   "metadata": {},
   "outputs": [],
   "source": [
    "emp_name_dept1.sort()"
   ]
  },
  {
   "cell_type": "code",
   "execution_count": 58,
   "id": "750b0236",
   "metadata": {},
   "outputs": [
    {
     "data": {
      "text/plain": [
       "['E1',\n",
       " 'ashwini',\n",
       " 'raghu-dept1',\n",
       " 'ram',\n",
       " 'ramya',\n",
       " 'ranjan',\n",
       " 'sathya_team_lead',\n",
       " 'shiva']"
      ]
     },
     "execution_count": 58,
     "metadata": {},
     "output_type": "execute_result"
    }
   ],
   "source": [
    "emp_name_dept1 # capital E is in the first because of ascii series"
   ]
  },
  {
   "cell_type": "code",
   "execution_count": 59,
   "id": "49248644",
   "metadata": {},
   "outputs": [],
   "source": [
    "emp_name_dept1.reverse()"
   ]
  },
  {
   "cell_type": "code",
   "execution_count": 60,
   "id": "109a7290",
   "metadata": {},
   "outputs": [
    {
     "data": {
      "text/plain": [
       "['shiva',\n",
       " 'sathya_team_lead',\n",
       " 'ranjan',\n",
       " 'ramya',\n",
       " 'ram',\n",
       " 'raghu-dept1',\n",
       " 'ashwini',\n",
       " 'E1']"
      ]
     },
     "execution_count": 60,
     "metadata": {},
     "output_type": "execute_result"
    }
   ],
   "source": [
    "emp_name_dept1"
   ]
  },
  {
   "cell_type": "code",
   "execution_count": 61,
   "id": "ef7c41a4",
   "metadata": {},
   "outputs": [
    {
     "data": {
      "text/plain": [
       "['E1',\n",
       " 'ashwini',\n",
       " 'raghu-dept1',\n",
       " 'ram',\n",
       " 'ramya',\n",
       " 'ranjan',\n",
       " 'sathya_team_lead',\n",
       " 'shiva']"
      ]
     },
     "execution_count": 61,
     "metadata": {},
     "output_type": "execute_result"
    }
   ],
   "source": [
    "emp_name_dept1[::-1] #:: reverse the whole list irrespective of alphabetical order"
   ]
  },
  {
   "cell_type": "code",
   "execution_count": 62,
   "id": "8efd863a",
   "metadata": {},
   "outputs": [],
   "source": [
    "#tuple\n",
    "m1=(96,76,54,86,34) #to declare tuple use ()"
   ]
  },
  {
   "cell_type": "code",
   "execution_count": 63,
   "id": "14cf99d1",
   "metadata": {},
   "outputs": [
    {
     "data": {
      "text/plain": [
       "tuple"
      ]
     },
     "execution_count": 63,
     "metadata": {},
     "output_type": "execute_result"
    }
   ],
   "source": [
    "type(m1)"
   ]
  },
  {
   "cell_type": "code",
   "execution_count": 65,
   "id": "c799ee86",
   "metadata": {},
   "outputs": [
    {
     "data": {
      "text/plain": [
       "96"
      ]
     },
     "execution_count": 65,
     "metadata": {},
     "output_type": "execute_result"
    }
   ],
   "source": [
    "m1[0] #[] is to get the element detail"
   ]
  },
  {
   "cell_type": "code",
   "execution_count": 67,
   "id": "d69c5b8b",
   "metadata": {},
   "outputs": [
    {
     "ename": "TypeError",
     "evalue": "'tuple' object does not support item assignment",
     "output_type": "error",
     "traceback": [
      "\u001b[1;31m---------------------------------------------------------------------------\u001b[0m",
      "\u001b[1;31mTypeError\u001b[0m                                 Traceback (most recent call last)",
      "\u001b[1;32m<ipython-input-67-4bd352e39108>\u001b[0m in \u001b[0;36m<module>\u001b[1;34m\u001b[0m\n\u001b[1;32m----> 1\u001b[1;33m \u001b[0mm1\u001b[0m\u001b[1;33m[\u001b[0m\u001b[1;36m4\u001b[0m\u001b[1;33m]\u001b[0m\u001b[1;33m=\u001b[0m\u001b[1;36m50\u001b[0m\u001b[1;33m\u001b[0m\u001b[1;33m\u001b[0m\u001b[0m\n\u001b[0m",
      "\u001b[1;31mTypeError\u001b[0m: 'tuple' object does not support item assignment"
     ]
    }
   ],
   "source": [
    "m1[4]=50 #immutable which u cannot change the element or the value defined"
   ]
  },
  {
   "cell_type": "code",
   "execution_count": 68,
   "id": "09860a67",
   "metadata": {},
   "outputs": [],
   "source": [
    "my_tuple=('rahul','Mtech','chennai',[1,2,3,4,5])"
   ]
  },
  {
   "cell_type": "code",
   "execution_count": 69,
   "id": "30260270",
   "metadata": {},
   "outputs": [
    {
     "data": {
      "text/plain": [
       "tuple"
      ]
     },
     "execution_count": 69,
     "metadata": {},
     "output_type": "execute_result"
    }
   ],
   "source": [
    "type(my_tuple)"
   ]
  },
  {
   "cell_type": "code",
   "execution_count": 71,
   "id": "990fa0f4",
   "metadata": {},
   "outputs": [],
   "source": [
    "my_tuple[3].append(7) #you can change the list inside the tuple but tuple is immutable"
   ]
  },
  {
   "cell_type": "code",
   "execution_count": 72,
   "id": "dbe8d5ed",
   "metadata": {},
   "outputs": [
    {
     "data": {
      "text/plain": [
       "('rahul', 'Mtech', 'chennai', [1, 2, 3, 4, 5, 7])"
      ]
     },
     "execution_count": 72,
     "metadata": {},
     "output_type": "execute_result"
    }
   ],
   "source": [
    "my_tuple"
   ]
  },
  {
   "cell_type": "code",
   "execution_count": 73,
   "id": "4b16573a",
   "metadata": {},
   "outputs": [],
   "source": [
    "my_tup=('India','Pakistan','US','China')"
   ]
  },
  {
   "cell_type": "code",
   "execution_count": 74,
   "id": "df11d7cd",
   "metadata": {},
   "outputs": [
    {
     "ename": "AttributeError",
     "evalue": "'tuple' object has no attribute 'sort'",
     "output_type": "error",
     "traceback": [
      "\u001b[1;31m---------------------------------------------------------------------------\u001b[0m",
      "\u001b[1;31mAttributeError\u001b[0m                            Traceback (most recent call last)",
      "\u001b[1;32m<ipython-input-74-68cfd68c7e6d>\u001b[0m in \u001b[0;36m<module>\u001b[1;34m\u001b[0m\n\u001b[1;32m----> 1\u001b[1;33m \u001b[0mmy_tup\u001b[0m\u001b[1;33m.\u001b[0m\u001b[0msort\u001b[0m\u001b[1;33m(\u001b[0m\u001b[1;33m)\u001b[0m\u001b[1;33m\u001b[0m\u001b[1;33m\u001b[0m\u001b[0m\n\u001b[0m",
      "\u001b[1;31mAttributeError\u001b[0m: 'tuple' object has no attribute 'sort'"
     ]
    }
   ],
   "source": [
    "my_tup.sort() #no function works on tuplle except (lenght,count,index)"
   ]
  },
  {
   "cell_type": "code",
   "execution_count": 76,
   "id": "af04d4c0",
   "metadata": {},
   "outputs": [
    {
     "data": {
      "text/plain": [
       "4"
      ]
     },
     "execution_count": 76,
     "metadata": {},
     "output_type": "execute_result"
    }
   ],
   "source": [
    "len(my_tuple)"
   ]
  },
  {
   "cell_type": "code",
   "execution_count": 77,
   "id": "12576048",
   "metadata": {},
   "outputs": [
    {
     "data": {
      "text/plain": [
       "1"
      ]
     },
     "execution_count": 77,
     "metadata": {},
     "output_type": "execute_result"
    }
   ],
   "source": [
    "my_tup.count('India')"
   ]
  },
  {
   "cell_type": "code",
   "execution_count": 80,
   "id": "343e86b0",
   "metadata": {},
   "outputs": [
    {
     "data": {
      "text/plain": [
       "2"
      ]
     },
     "execution_count": 80,
     "metadata": {},
     "output_type": "execute_result"
    }
   ],
   "source": [
    "my_tup.index('US')"
   ]
  },
  {
   "cell_type": "code",
   "execution_count": 81,
   "id": "25402fd0",
   "metadata": {},
   "outputs": [
    {
     "data": {
      "text/plain": [
       "('US', 'China')"
      ]
     },
     "execution_count": 81,
     "metadata": {},
     "output_type": "execute_result"
    }
   ],
   "source": [
    "my_tup[2:]"
   ]
  },
  {
   "cell_type": "code",
   "execution_count": 83,
   "id": "8cfc7212",
   "metadata": {},
   "outputs": [
    {
     "data": {
      "text/plain": [
       "('Pakistan', 'US')"
      ]
     },
     "execution_count": 83,
     "metadata": {},
     "output_type": "execute_result"
    }
   ],
   "source": [
    "my_tup[1:3]"
   ]
  },
  {
   "cell_type": "code",
   "execution_count": 84,
   "id": "aaf0558f",
   "metadata": {},
   "outputs": [],
   "source": [
    "tup3=(45,56,78,23)"
   ]
  },
  {
   "cell_type": "code",
   "execution_count": 85,
   "id": "13683257",
   "metadata": {},
   "outputs": [
    {
     "data": {
      "text/plain": [
       "(78, 23, 202)"
      ]
     },
     "execution_count": 85,
     "metadata": {},
     "output_type": "execute_result"
    }
   ],
   "source": [
    "max(tup3),min(tup3),sum(tup3) #it is also applicable for list too"
   ]
  },
  {
   "cell_type": "code",
   "execution_count": 91,
   "id": "a80df9e5",
   "metadata": {},
   "outputs": [],
   "source": [
    "kumar=[67,78,45,67,59]\n",
    "ramya=[56,84,51,55,60]\n",
    "surya=[90,89,78,67,56]"
   ]
  },
  {
   "cell_type": "code",
   "execution_count": 92,
   "id": "6ef8b499",
   "metadata": {},
   "outputs": [
    {
     "data": {
      "text/plain": [
       "316"
      ]
     },
     "execution_count": 92,
     "metadata": {},
     "output_type": "execute_result"
    }
   ],
   "source": [
    "sum(kumar)"
   ]
  },
  {
   "cell_type": "code",
   "execution_count": 98,
   "id": "06b2e7df",
   "metadata": {},
   "outputs": [
    {
     "data": {
      "text/plain": [
       "[316, 306, 380]"
      ]
     },
     "execution_count": 98,
     "metadata": {},
     "output_type": "execute_result"
    }
   ],
   "source": [
    "tot=[sum(kumar),sum(ramya),sum(surya)]\n",
    "tot"
   ]
  },
  {
   "cell_type": "code",
   "execution_count": 99,
   "id": "c31861c3",
   "metadata": {},
   "outputs": [
    {
     "data": {
      "text/plain": [
       "380"
      ]
     },
     "execution_count": 99,
     "metadata": {},
     "output_type": "execute_result"
    }
   ],
   "source": [
    "max(tot)"
   ]
  },
  {
   "cell_type": "code",
   "execution_count": 100,
   "id": "d6b08671",
   "metadata": {},
   "outputs": [
    {
     "data": {
      "text/plain": [
       "2"
      ]
     },
     "execution_count": 100,
     "metadata": {},
     "output_type": "execute_result"
    }
   ],
   "source": [
    "tot.index(380)"
   ]
  },
  {
   "cell_type": "code",
   "execution_count": 101,
   "id": "3d30c54f",
   "metadata": {},
   "outputs": [
    {
     "ename": "TypeError",
     "evalue": "can only concatenate list (not \"int\") to list",
     "output_type": "error",
     "traceback": [
      "\u001b[1;31m---------------------------------------------------------------------------\u001b[0m",
      "\u001b[1;31mTypeError\u001b[0m                                 Traceback (most recent call last)",
      "\u001b[1;32m<ipython-input-101-5384812af854>\u001b[0m in \u001b[0;36m<module>\u001b[1;34m\u001b[0m\n\u001b[0;32m      1\u001b[0m \u001b[1;31m#give grace mark 5 to kumar on all subject\u001b[0m\u001b[1;33m\u001b[0m\u001b[1;33m\u001b[0m\u001b[1;33m\u001b[0m\u001b[0m\n\u001b[1;32m----> 2\u001b[1;33m \u001b[0mkumar\u001b[0m\u001b[1;33m+\u001b[0m\u001b[1;36m5\u001b[0m\u001b[1;33m\u001b[0m\u001b[1;33m\u001b[0m\u001b[0m\n\u001b[0m",
      "\u001b[1;31mTypeError\u001b[0m: can only concatenate list (not \"int\") to list"
     ]
    }
   ],
   "source": [
    "#give grace mark 5 to kumar on all subject\n",
    "kumar+5"
   ]
  },
  {
   "cell_type": "code",
   "execution_count": 105,
   "id": "f704ce5e",
   "metadata": {},
   "outputs": [
    {
     "data": {
      "text/plain": [
       "(72, 83, 50, 72, 64)"
      ]
     },
     "execution_count": 105,
     "metadata": {},
     "output_type": "execute_result"
    }
   ],
   "source": [
    "kumar[0]+5,kumar[1]+5,kumar[2]+5,kumar[3]+5,kumar[4]+5"
   ]
  },
  {
   "cell_type": "code",
   "execution_count": 106,
   "id": "6ddb3465",
   "metadata": {},
   "outputs": [
    {
     "data": {
      "text/plain": [
       "[67, 78, 45, 67, 59]"
      ]
     },
     "execution_count": 106,
     "metadata": {},
     "output_type": "execute_result"
    }
   ],
   "source": [
    "kumar"
   ]
  },
  {
   "cell_type": "code",
   "execution_count": 107,
   "id": "ce3950d2",
   "metadata": {},
   "outputs": [
    {
     "name": "stdout",
     "output_type": "stream",
     "text": [
      "72\n",
      "83\n",
      "50\n",
      "72\n",
      "64\n"
     ]
    }
   ],
   "source": [
    "for i in kumar:\n",
    "    print(i+5)"
   ]
  },
  {
   "cell_type": "code",
   "execution_count": 109,
   "id": "b95c1814",
   "metadata": {},
   "outputs": [
    {
     "name": "stdout",
     "output_type": "stream",
     "text": [
      "66\n",
      "94\n",
      "61\n",
      "65\n",
      "70\n"
     ]
    }
   ],
   "source": [
    "for n in ramya:\n",
    "    print(n+10)"
   ]
  },
  {
   "cell_type": "code",
   "execution_count": 110,
   "id": "b3a0e846",
   "metadata": {},
   "outputs": [],
   "source": [
    "for i in kumar:\n",
    "    kumar_upd=i+5"
   ]
  },
  {
   "cell_type": "code",
   "execution_count": 111,
   "id": "2ee81f7b",
   "metadata": {},
   "outputs": [
    {
     "data": {
      "text/plain": [
       "64"
      ]
     },
     "execution_count": 111,
     "metadata": {},
     "output_type": "execute_result"
    }
   ],
   "source": [
    "kumar_upd"
   ]
  },
  {
   "cell_type": "code",
   "execution_count": 112,
   "id": "6c2b08ec",
   "metadata": {},
   "outputs": [],
   "source": [
    "kumar_upd=[]\n",
    "for i in kumar:\n",
    "    kumar_upd.append(i+5)"
   ]
  },
  {
   "cell_type": "code",
   "execution_count": 113,
   "id": "859cb274",
   "metadata": {},
   "outputs": [
    {
     "data": {
      "text/plain": [
       "[72, 83, 50, 72, 64]"
      ]
     },
     "execution_count": 113,
     "metadata": {},
     "output_type": "execute_result"
    }
   ],
   "source": [
    "kumar_upd"
   ]
  },
  {
   "cell_type": "code",
   "execution_count": 115,
   "id": "769411a4",
   "metadata": {},
   "outputs": [
    {
     "name": "stdout",
     "output_type": "stream",
     "text": [
      "[]\n",
      "[72]\n",
      "[72, 83]\n",
      "[72, 83, 50]\n",
      "[72, 83, 50, 72]\n"
     ]
    },
    {
     "data": {
      "text/plain": [
       "[72, 83, 50, 72, 64]"
      ]
     },
     "execution_count": 115,
     "metadata": {},
     "output_type": "execute_result"
    }
   ],
   "source": [
    "kumar_upd=[]\n",
    "for i in kumar:\n",
    "    print(kumar_upd)\n",
    "    kumar_upd.append(i+5)\n",
    "    \n",
    "kumar_upd"
   ]
  },
  {
   "cell_type": "code",
   "execution_count": 116,
   "id": "339f8df3",
   "metadata": {},
   "outputs": [],
   "source": [
    "stud_name=['kumar','ramya','ashwini','surya']\n",
    "s1=[67,56,99,78]\n",
    "s2=[78,89,92,78]\n",
    "s3=[98,45,99,87]"
   ]
  },
  {
   "cell_type": "code",
   "execution_count": 121,
   "id": "34b8feb0",
   "metadata": {},
   "outputs": [
    {
     "name": "stdout",
     "output_type": "stream",
     "text": [
      "i,j,k---> 67 78 98\n",
      "i,j,k---> 56 89 45\n",
      "i,j,k---> 99 92 99\n",
      "i,j,k---> 78 78 87\n"
     ]
    }
   ],
   "source": [
    "for i,j,k in zip(s1,s2,s3):\n",
    "    print('i,j,k--->',i,j,k)"
   ]
  },
  {
   "cell_type": "code",
   "execution_count": 122,
   "id": "95a429e9",
   "metadata": {},
   "outputs": [
    {
     "name": "stdout",
     "output_type": "stream",
     "text": [
      "243\n",
      "190\n",
      "290\n",
      "243\n"
     ]
    }
   ],
   "source": [
    "for i,j,k in zip(s1,s2,s3):\n",
    "    print(i+j+k)"
   ]
  },
  {
   "cell_type": "code",
   "execution_count": 123,
   "id": "62910c92",
   "metadata": {},
   "outputs": [
    {
     "name": "stdout",
     "output_type": "stream",
     "text": [
      "[243, 190, 290, 243]\n"
     ]
    }
   ],
   "source": [
    "tot_mark=[]\n",
    "for i,j,k in zip(s1,s2,s3):\n",
    "    tot_mark.append((i+j+k))\n",
    "print(tot_mark)"
   ]
  },
  {
   "cell_type": "code",
   "execution_count": 124,
   "id": "c0af9d85",
   "metadata": {},
   "outputs": [
    {
     "data": {
      "text/plain": [
       "290"
      ]
     },
     "execution_count": 124,
     "metadata": {},
     "output_type": "execute_result"
    }
   ],
   "source": [
    "max(tot_mark)\n"
   ]
  },
  {
   "cell_type": "code",
   "execution_count": 125,
   "id": "ea4ade05",
   "metadata": {},
   "outputs": [
    {
     "data": {
      "text/plain": [
       "2"
      ]
     },
     "execution_count": 125,
     "metadata": {},
     "output_type": "execute_result"
    }
   ],
   "source": [
    "tot_mark.index(max(tot_mark))"
   ]
  },
  {
   "cell_type": "code",
   "execution_count": 126,
   "id": "7b5c3bde",
   "metadata": {},
   "outputs": [
    {
     "data": {
      "text/plain": [
       "'ashwini'"
      ]
     },
     "execution_count": 126,
     "metadata": {},
     "output_type": "execute_result"
    }
   ],
   "source": [
    "stud_name[tot_mark.index(max(tot_mark))]"
   ]
  },
  {
   "cell_type": "code",
   "execution_count": 128,
   "id": "4efa7fd6",
   "metadata": {},
   "outputs": [
    {
     "name": "stdout",
     "output_type": "stream",
     "text": [
      "The Topper is: ashwini\n"
     ]
    }
   ],
   "source": [
    "print(\"The Topper is:\",stud_name[tot_mark.index(max(tot_mark))])"
   ]
  },
  {
   "cell_type": "code",
   "execution_count": 129,
   "id": "3be434c8",
   "metadata": {},
   "outputs": [],
   "source": [
    "#how many studets scored less than 250 and print their names"
   ]
  },
  {
   "cell_type": "code",
   "execution_count": 78,
   "id": "ef68c08e",
   "metadata": {},
   "outputs": [
    {
     "ename": "NameError",
     "evalue": "name 'tot_mark' is not defined",
     "output_type": "error",
     "traceback": [
      "\u001b[1;31m---------------------------------------------------------------------------\u001b[0m",
      "\u001b[1;31mNameError\u001b[0m                                 Traceback (most recent call last)",
      "\u001b[1;32m<ipython-input-78-a766cfaa0a0a>\u001b[0m in \u001b[0;36m<module>\u001b[1;34m\u001b[0m\n\u001b[0;32m      1\u001b[0m \u001b[0mcnt\u001b[0m\u001b[1;33m=\u001b[0m\u001b[1;36m0\u001b[0m\u001b[1;33m\u001b[0m\u001b[1;33m\u001b[0m\u001b[0m\n\u001b[1;32m----> 2\u001b[1;33m \u001b[1;32mfor\u001b[0m \u001b[0mi\u001b[0m \u001b[1;32min\u001b[0m \u001b[0mtot_mark\u001b[0m\u001b[1;33m:\u001b[0m\u001b[1;33m\u001b[0m\u001b[1;33m\u001b[0m\u001b[0m\n\u001b[0m\u001b[0;32m      3\u001b[0m     \u001b[1;32mif\u001b[0m \u001b[0mi\u001b[0m\u001b[1;33m<\u001b[0m\u001b[1;36m250\u001b[0m\u001b[1;33m:\u001b[0m\u001b[1;33m\u001b[0m\u001b[1;33m\u001b[0m\u001b[0m\n\u001b[0;32m      4\u001b[0m         \u001b[0mprint\u001b[0m\u001b[1;33m(\u001b[0m\u001b[1;34m'Student Name:'\u001b[0m\u001b[1;33m,\u001b[0m\u001b[0mstud_name\u001b[0m\u001b[1;33m[\u001b[0m\u001b[0mtot_mark\u001b[0m\u001b[1;33m.\u001b[0m\u001b[0mindex\u001b[0m\u001b[1;33m(\u001b[0m\u001b[0mi\u001b[0m\u001b[1;33m)\u001b[0m\u001b[1;33m]\u001b[0m\u001b[1;33m)\u001b[0m\u001b[1;33m\u001b[0m\u001b[1;33m\u001b[0m\u001b[0m\n\u001b[0;32m      5\u001b[0m         \u001b[0mcnt\u001b[0m\u001b[1;33m=\u001b[0m\u001b[0mcnt\u001b[0m\u001b[1;33m+\u001b[0m\u001b[1;36m1\u001b[0m\u001b[1;33m\u001b[0m\u001b[1;33m\u001b[0m\u001b[0m\n",
      "\u001b[1;31mNameError\u001b[0m: name 'tot_mark' is not defined"
     ]
    }
   ],
   "source": [
    "cnt=0\n",
    "for i in tot_mark:\n",
    "    if i<250:\n",
    "        print('Student Name:',stud_name[tot_mark.index(i)])\n",
    "        cnt=cnt+1\n",
    "print('The total number of student who are scores less than 250 is',cnt)"
   ]
  },
  {
   "cell_type": "code",
   "execution_count": 8,
   "id": "459c8c07",
   "metadata": {},
   "outputs": [
    {
     "data": {
      "text/plain": [
       "{'Rahul': 5, 'Kumar': 2, 'Ramya': 4, 'Harish': 3.5}"
      ]
     },
     "execution_count": 8,
     "metadata": {},
     "output_type": "execute_result"
    }
   ],
   "source": [
    "my_dict={'Rahul':5,'Kumar':2,'Ramya':4,'Harish':3.5}\n",
    "my_dict"
   ]
  },
  {
   "cell_type": "code",
   "execution_count": 9,
   "id": "ddc49dc5",
   "metadata": {},
   "outputs": [],
   "source": [
    "my_dict1={'Rahul':[35,5,70000,'BE'],'Kumar':[28,2,40000,'BSc']}"
   ]
  },
  {
   "cell_type": "code",
   "execution_count": 10,
   "id": "7481eb9f",
   "metadata": {},
   "outputs": [
    {
     "data": {
      "text/plain": [
       "{'Rahul': [35, 5, 70000, 'BE'], 'Kumar': [28, 2, 40000, 'BSc']}"
      ]
     },
     "execution_count": 10,
     "metadata": {},
     "output_type": "execute_result"
    }
   ],
   "source": [
    "my_dict1"
   ]
  },
  {
   "cell_type": "code",
   "execution_count": 6,
   "id": "9d1559ba",
   "metadata": {},
   "outputs": [
    {
     "ename": "KeyError",
     "evalue": "0",
     "output_type": "error",
     "traceback": [
      "\u001b[1;31m---------------------------------------------------------------------------\u001b[0m",
      "\u001b[1;31mKeyError\u001b[0m                                  Traceback (most recent call last)",
      "\u001b[1;32m<ipython-input-6-2e042f7087f7>\u001b[0m in \u001b[0;36m<module>\u001b[1;34m\u001b[0m\n\u001b[1;32m----> 1\u001b[1;33m \u001b[0mmy_dict\u001b[0m\u001b[1;33m[\u001b[0m\u001b[1;36m0\u001b[0m\u001b[1;33m]\u001b[0m\u001b[1;33m\u001b[0m\u001b[1;33m\u001b[0m\u001b[0m\n\u001b[0m",
      "\u001b[1;31mKeyError\u001b[0m: 0"
     ]
    }
   ],
   "source": [
    "my_dict[0]"
   ]
  },
  {
   "cell_type": "code",
   "execution_count": 11,
   "id": "3b43740c",
   "metadata": {},
   "outputs": [
    {
     "data": {
      "text/plain": [
       "5"
      ]
     },
     "execution_count": 11,
     "metadata": {},
     "output_type": "execute_result"
    }
   ],
   "source": [
    "my_dict['Rahul']"
   ]
  },
  {
   "cell_type": "code",
   "execution_count": 12,
   "id": "0bae016f",
   "metadata": {},
   "outputs": [],
   "source": [
    "#my_dict2={'EKP000666':['Arun',34,67000,'Adress1'],'EKP00067':[]}\n",
    "#my_dict['Ekp000666']"
   ]
  },
  {
   "cell_type": "code",
   "execution_count": 13,
   "id": "62cdac8d",
   "metadata": {},
   "outputs": [
    {
     "data": {
      "text/plain": [
       "dict_keys(['Rahul', 'Kumar', 'Ramya', 'Harish'])"
      ]
     },
     "execution_count": 13,
     "metadata": {},
     "output_type": "execute_result"
    }
   ],
   "source": [
    "my_dict.keys()"
   ]
  },
  {
   "cell_type": "code",
   "execution_count": 14,
   "id": "4407f9da",
   "metadata": {},
   "outputs": [
    {
     "data": {
      "text/plain": [
       "dict_values([5, 2, 4, 3.5])"
      ]
     },
     "execution_count": 14,
     "metadata": {},
     "output_type": "execute_result"
    }
   ],
   "source": [
    "my_dict.values()"
   ]
  },
  {
   "cell_type": "code",
   "execution_count": 15,
   "id": "38fff0d6",
   "metadata": {},
   "outputs": [
    {
     "data": {
      "text/plain": [
       "[5, 2, 4, 3.5]"
      ]
     },
     "execution_count": 15,
     "metadata": {},
     "output_type": "execute_result"
    }
   ],
   "source": [
    "\n",
    "list(my_dict.values())"
   ]
  },
  {
   "cell_type": "code",
   "execution_count": 16,
   "id": "826056ea",
   "metadata": {},
   "outputs": [
    {
     "data": {
      "text/plain": [
       "['Rahul', 'Kumar', 'Ramya', 'Harish']"
      ]
     },
     "execution_count": 16,
     "metadata": {},
     "output_type": "execute_result"
    }
   ],
   "source": [
    "list(my_dict.keys())"
   ]
  },
  {
   "cell_type": "code",
   "execution_count": 17,
   "id": "d6bdda22",
   "metadata": {},
   "outputs": [
    {
     "data": {
      "text/plain": [
       "'Rahul'"
      ]
     },
     "execution_count": 17,
     "metadata": {},
     "output_type": "execute_result"
    }
   ],
   "source": [
    "list(my_dict.keys())[0]"
   ]
  },
  {
   "cell_type": "code",
   "execution_count": 18,
   "id": "b270f8a3",
   "metadata": {},
   "outputs": [
    {
     "data": {
      "text/plain": [
       "5"
      ]
     },
     "execution_count": 18,
     "metadata": {},
     "output_type": "execute_result"
    }
   ],
   "source": [
    "my_dict[list(my_dict.keys())[0]]"
   ]
  },
  {
   "cell_type": "code",
   "execution_count": 19,
   "id": "6e22aada",
   "metadata": {},
   "outputs": [
    {
     "data": {
      "text/plain": [
       "2"
      ]
     },
     "execution_count": 19,
     "metadata": {},
     "output_type": "execute_result"
    }
   ],
   "source": [
    "my_dict[list(my_dict.keys())[1]]"
   ]
  },
  {
   "cell_type": "code",
   "execution_count": 20,
   "id": "e29da37a",
   "metadata": {},
   "outputs": [
    {
     "data": {
      "text/plain": [
       "[35, 5, 70000, 'BE']"
      ]
     },
     "execution_count": 20,
     "metadata": {},
     "output_type": "execute_result"
    }
   ],
   "source": [
    "my_dict1['Rahul']"
   ]
  },
  {
   "cell_type": "code",
   "execution_count": 21,
   "id": "fe249b91",
   "metadata": {},
   "outputs": [
    {
     "data": {
      "text/plain": [
       "{'Rahul': [35, 5, 70000, 'BE'], 'Kumar': [28, 2, 40000, 'BSc']}"
      ]
     },
     "execution_count": 21,
     "metadata": {},
     "output_type": "execute_result"
    }
   ],
   "source": [
    "my_dict1"
   ]
  },
  {
   "cell_type": "code",
   "execution_count": 22,
   "id": "fd6cc3af",
   "metadata": {},
   "outputs": [],
   "source": [
    "my_dict1['Raghu']=[30,4,50000,'ME']"
   ]
  },
  {
   "cell_type": "code",
   "execution_count": 23,
   "id": "81668e42",
   "metadata": {},
   "outputs": [
    {
     "data": {
      "text/plain": [
       "{'Rahul': [35, 5, 70000, 'BE'],\n",
       " 'Kumar': [28, 2, 40000, 'BSc'],\n",
       " 'Raghu': [30, 4, 50000, 'ME']}"
      ]
     },
     "execution_count": 23,
     "metadata": {},
     "output_type": "execute_result"
    }
   ],
   "source": [
    "my_dict1"
   ]
  },
  {
   "cell_type": "code",
   "execution_count": 24,
   "id": "7ab39165",
   "metadata": {},
   "outputs": [],
   "source": [
    "new_data={'Raju':[32,4,50000,'BA'],'Ram':[45,10,65000,'Bcom']}"
   ]
  },
  {
   "cell_type": "code",
   "execution_count": 25,
   "id": "fdcc3c7d",
   "metadata": {},
   "outputs": [],
   "source": [
    "my_dict1.update(new_data)"
   ]
  },
  {
   "cell_type": "code",
   "execution_count": 26,
   "id": "d64509f8",
   "metadata": {},
   "outputs": [
    {
     "data": {
      "text/plain": [
       "{'Rahul': [35, 5, 70000, 'BE'],\n",
       " 'Kumar': [28, 2, 40000, 'BSc'],\n",
       " 'Raghu': [30, 4, 50000, 'ME'],\n",
       " 'Raju': [32, 4, 50000, 'BA'],\n",
       " 'Ram': [45, 10, 65000, 'Bcom']}"
      ]
     },
     "execution_count": 26,
     "metadata": {},
     "output_type": "execute_result"
    }
   ],
   "source": [
    "my_dict1"
   ]
  },
  {
   "cell_type": "code",
   "execution_count": 27,
   "id": "b2a78293",
   "metadata": {},
   "outputs": [],
   "source": [
    "my_dict1['Ramya']=[34,5,60000]"
   ]
  },
  {
   "cell_type": "code",
   "execution_count": 28,
   "id": "6152a772",
   "metadata": {},
   "outputs": [
    {
     "data": {
      "text/plain": [
       "{'Rahul': [35, 5, 70000, 'BE'],\n",
       " 'Kumar': [28, 2, 40000, 'BSc'],\n",
       " 'Raghu': [30, 4, 50000, 'ME'],\n",
       " 'Raju': [32, 4, 50000, 'BA'],\n",
       " 'Ram': [45, 10, 65000, 'Bcom'],\n",
       " 'Ramya': [34, 5, 60000]}"
      ]
     },
     "execution_count": 28,
     "metadata": {},
     "output_type": "execute_result"
    }
   ],
   "source": [
    "my_dict1"
   ]
  },
  {
   "cell_type": "code",
   "execution_count": 29,
   "id": "c4df83c0",
   "metadata": {},
   "outputs": [],
   "source": [
    "del my_dict1['Kumar']"
   ]
  },
  {
   "cell_type": "code",
   "execution_count": 30,
   "id": "62b0a5f1",
   "metadata": {},
   "outputs": [
    {
     "data": {
      "text/plain": [
       "{'Rahul': [35, 5, 70000, 'BE'],\n",
       " 'Raghu': [30, 4, 50000, 'ME'],\n",
       " 'Raju': [32, 4, 50000, 'BA'],\n",
       " 'Ram': [45, 10, 65000, 'Bcom'],\n",
       " 'Ramya': [34, 5, 60000]}"
      ]
     },
     "execution_count": 30,
     "metadata": {},
     "output_type": "execute_result"
    }
   ],
   "source": [
    "my_dict1"
   ]
  },
  {
   "cell_type": "code",
   "execution_count": 36,
   "id": "7e1bc8f9",
   "metadata": {},
   "outputs": [
    {
     "data": {
      "text/plain": [
       "{'model': ['lenovok8', 'RedmiM8', 'GalaxyM30', 'Motox', 'Oppo'],\n",
       " 'price': [10, 12, 18, 16, 20],\n",
       " 'Units': [3, 4, 8, 1, 2]}"
      ]
     },
     "execution_count": 36,
     "metadata": {},
     "output_type": "execute_result"
    }
   ],
   "source": [
    "data={'model':['lenovok8','RedmiM8','GalaxyM30','Motox','Oppo'],\n",
    "      'price':[10,12,18,16,20],\n",
    "      'Units':[3,4,8,1,2]}\n",
    "data"
   ]
  },
  {
   "cell_type": "code",
   "execution_count": 40,
   "id": "4da32757",
   "metadata": {},
   "outputs": [
    {
     "name": "stdout",
     "output_type": "stream",
     "text": [
      "sales\n"
     ]
    },
    {
     "data": {
      "text/plain": [
       "{'model': ['lenovok8', 'RedmiM8', 'GalaxyM30', 'Motox', 'Oppo'],\n",
       " 'price': [10, 12, 18, 16, 20],\n",
       " 'Units': [3, 4, 8, 1, 2],\n",
       " 'sales': [30, 48, 144, 16, 40]}"
      ]
     },
     "execution_count": 40,
     "metadata": {},
     "output_type": "execute_result"
    }
   ],
   "source": [
    "sales=[]\n",
    "for i,j in zip(data['price'],data['Units']):\n",
    "    \n",
    "    sales.append(i*j)\n",
    "print('sales')\n",
    "data['sales']=sales\n",
    "data"
   ]
  },
  {
   "cell_type": "code",
   "execution_count": 42,
   "id": "cdcdd37b",
   "metadata": {},
   "outputs": [
    {
     "data": {
      "text/plain": [
       "[3, 4, 8, 1, 2]"
      ]
     },
     "execution_count": 42,
     "metadata": {},
     "output_type": "execute_result"
    }
   ],
   "source": [
    "data['Units']"
   ]
  },
  {
   "cell_type": "code",
   "execution_count": 44,
   "id": "3423e0b2",
   "metadata": {},
   "outputs": [
    {
     "data": {
      "text/plain": [
       "[30, 48, 144, 16, 40]"
      ]
     },
     "execution_count": 44,
     "metadata": {},
     "output_type": "execute_result"
    }
   ],
   "source": [
    "sal=[i*j for i,j in zip(data['price'],data['Units'])]#list comprehension\n",
    "sal"
   ]
  },
  {
   "cell_type": "code",
   "execution_count": 46,
   "id": "129ab4fa",
   "metadata": {},
   "outputs": [
    {
     "ename": "SyntaxError",
     "evalue": "invalid syntax (<ipython-input-46-fc0f56cb333f>, line 1)",
     "output_type": "error",
     "traceback": [
      "\u001b[1;36m  File \u001b[1;32m\"<ipython-input-46-fc0f56cb333f>\"\u001b[1;36m, line \u001b[1;32m1\u001b[0m\n\u001b[1;33m    sal=[i*j for i,j in zip(data['price'],data['Units'])if j>2 else 0]\u001b[0m\n\u001b[1;37m                                                               ^\u001b[0m\n\u001b[1;31mSyntaxError\u001b[0m\u001b[1;31m:\u001b[0m invalid syntax\n"
     ]
    }
   ],
   "source": [
    "sal=[i*j for i,j in zip(data['price'],data['Units'])if j>2 else 0]\n",
    "sal"
   ]
  },
  {
   "cell_type": "code",
   "execution_count": 47,
   "id": "1599695c",
   "metadata": {},
   "outputs": [
    {
     "data": {
      "text/plain": [
       "[30, 48, 144, 0, 0]"
      ]
     },
     "execution_count": 47,
     "metadata": {},
     "output_type": "execute_result"
    }
   ],
   "source": [
    "sal=[i*j if j>2 else 0 for i,j in zip(data['price'],data['Units'])] #if else should come before for if else is given\n",
    "sal"
   ]
  },
  {
   "cell_type": "code",
   "execution_count": 48,
   "id": "60507c36",
   "metadata": {},
   "outputs": [],
   "source": [
    "stri=\"Hello how are you. I thought you went abroad. Really glad to see you again. Hope we will meet again.\""
   ]
  },
  {
   "cell_type": "code",
   "execution_count": 49,
   "id": "f3c96005",
   "metadata": {},
   "outputs": [
    {
     "data": {
      "text/plain": [
       "'Hello how are you. I thought you went abroad. Really glad to see you again. Hope we will meet again.'"
      ]
     },
     "execution_count": 49,
     "metadata": {},
     "output_type": "execute_result"
    }
   ],
   "source": [
    "stri"
   ]
  },
  {
   "cell_type": "code",
   "execution_count": 51,
   "id": "98a1eea8",
   "metadata": {},
   "outputs": [
    {
     "data": {
      "text/plain": [
       "['Hello how are you',\n",
       " ' I thought you went abroad',\n",
       " ' Really glad to see you again',\n",
       " ' Hope we will meet again',\n",
       " '']"
      ]
     },
     "execution_count": 51,
     "metadata": {},
     "output_type": "execute_result"
    }
   ],
   "source": [
    "stri.split('.')   # if (.) given the each sentece get split"
   ]
  },
  {
   "cell_type": "code",
   "execution_count": 52,
   "id": "68d74a0a",
   "metadata": {},
   "outputs": [
    {
     "data": {
      "text/plain": [
       "['Hello',\n",
       " 'how',\n",
       " 'are',\n",
       " 'you.',\n",
       " 'I',\n",
       " 'thought',\n",
       " 'you',\n",
       " 'went',\n",
       " 'abroad.',\n",
       " 'Really',\n",
       " 'glad',\n",
       " 'to',\n",
       " 'see',\n",
       " 'you',\n",
       " 'again.',\n",
       " 'Hope',\n",
       " 'we',\n",
       " 'will',\n",
       " 'meet',\n",
       " 'again.']"
      ]
     },
     "execution_count": 52,
     "metadata": {},
     "output_type": "execute_result"
    }
   ],
   "source": [
    "stri.split(' ')    #will split the sentence"
   ]
  },
  {
   "cell_type": "code",
   "execution_count": 54,
   "id": "ed2eb718",
   "metadata": {},
   "outputs": [
    {
     "data": {
      "text/plain": [
       "{'hello': 1,\n",
       " 'how': 1,\n",
       " 'are': 1,\n",
       " 'you': 3,\n",
       " 'i': 1,\n",
       " 'thought': 1,\n",
       " 'went': 1,\n",
       " 'abroad': 1,\n",
       " 'really': 1,\n",
       " 'glad': 1,\n",
       " 'to': 1,\n",
       " 'see': 1,\n",
       " 'again': 2,\n",
       " 'hope': 1,\n",
       " 'we': 1,\n",
       " 'will': 1,\n",
       " 'meet': 1}"
      ]
     },
     "execution_count": 54,
     "metadata": {},
     "output_type": "execute_result"
    }
   ],
   "source": [
    "words=[]\n",
    "for i in stri.split(' '):\n",
    "    words.append(i.lower().strip('.'))    #this command strip the dot from sentece where ever the dot present\n",
    "#words                                    #lower() change all upper case with lower case\n",
    "counts={}\n",
    "for word in words:\n",
    "    if word in counts:\n",
    "        counts[word]=counts[word]+1\n",
    "    else:\n",
    "        counts[word]=1\n",
    "counts"
   ]
  },
  {
   "cell_type": "code",
   "execution_count": 55,
   "id": "88b3876b",
   "metadata": {},
   "outputs": [],
   "source": [
    "def word_count(stri):                        # use tab to give space for whole command\n",
    "    words=[]\n",
    "    for i in stri.split(' '):\n",
    "        words.append(i.lower().strip('.'))\n",
    "    #words\n",
    "    counts={}\n",
    "    for word in words:\n",
    "        if word in counts:\n",
    "            counts[word]=counts[word]+1\n",
    "        else:\n",
    "            counts[word]=1\n",
    "    return counts\n",
    "#this whole code becomes a program to count word instead of using library creating an own program"
   ]
  },
  {
   "cell_type": "code",
   "execution_count": 57,
   "id": "5e98ca67",
   "metadata": {},
   "outputs": [
    {
     "data": {
      "text/plain": [
       "{'it': 1, 'is': 1, 'really': 2, 'amazing': 1, 'i': 1, 'saying': 1, 'this': 1}"
      ]
     },
     "execution_count": 57,
     "metadata": {},
     "output_type": "execute_result"
    }
   ],
   "source": [
    "word_count('It is really amazing. I really saying this')"
   ]
  },
  {
   "cell_type": "code",
   "execution_count": 58,
   "id": "48135e21",
   "metadata": {},
   "outputs": [],
   "source": [
    "def arith(a,b):            # def is used to define function or logic\n",
    "    s=a+b\n",
    "    d=a-b\n",
    "    return(s,d)"
   ]
  },
  {
   "cell_type": "code",
   "execution_count": 59,
   "id": "df8f4e75",
   "metadata": {},
   "outputs": [
    {
     "data": {
      "text/plain": [
       "(7, 3)"
      ]
     },
     "execution_count": 59,
     "metadata": {},
     "output_type": "execute_result"
    }
   ],
   "source": [
    "arith(5,2)"
   ]
  },
  {
   "cell_type": "code",
   "execution_count": 63,
   "id": "87ed797c",
   "metadata": {},
   "outputs": [
    {
     "data": {
      "text/plain": [
       "[10, 12, 18, 16, 20]"
      ]
     },
     "execution_count": 63,
     "metadata": {},
     "output_type": "execute_result"
    }
   ],
   "source": [
    "price=data['price']\n",
    "Units=data['Units']\n",
    "price"
   ]
  },
  {
   "cell_type": "code",
   "execution_count": 64,
   "id": "21089632",
   "metadata": {},
   "outputs": [
    {
     "data": {
      "text/plain": [
       "[3, 4, 8, 1, 2]"
      ]
     },
     "execution_count": 64,
     "metadata": {},
     "output_type": "execute_result"
    }
   ],
   "source": [
    "Units"
   ]
  },
  {
   "cell_type": "code",
   "execution_count": 65,
   "id": "c39047de",
   "metadata": {},
   "outputs": [
    {
     "data": {
      "text/plain": [
       "(<function __main__.<lambda>(x, y)>, [10, 12, 18, 16, 20], [3, 4, 8, 1, 2])"
      ]
     },
     "execution_count": 65,
     "metadata": {},
     "output_type": "execute_result"
    }
   ],
   "source": [
    "lambda x,y:x*y,price,Units      #lambda is used for many number of element"
   ]
  },
  {
   "cell_type": "code",
   "execution_count": 66,
   "id": "1204bf0c",
   "metadata": {},
   "outputs": [
    {
     "data": {
      "text/plain": [
       "[30, 48, 144, 16, 40]"
      ]
     },
     "execution_count": 66,
     "metadata": {},
     "output_type": "execute_result"
    }
   ],
   "source": [
    "list(map(lambda x,y:x*y,price,Units))           # map is used to computation of elements in list"
   ]
  },
  {
   "cell_type": "code",
   "execution_count": 71,
   "id": "6f640822",
   "metadata": {},
   "outputs": [],
   "source": [
    "# SET is data structure\n",
    "age1_set={11,12,31,13,32,33,21,23,12}"
   ]
  },
  {
   "cell_type": "code",
   "execution_count": 72,
   "id": "fb1532c3",
   "metadata": {},
   "outputs": [
    {
     "data": {
      "text/plain": [
       "{11, 12, 13, 21, 23, 31, 32, 33}"
      ]
     },
     "execution_count": 72,
     "metadata": {},
     "output_type": "execute_result"
    }
   ],
   "source": [
    "age1_set"
   ]
  },
  {
   "cell_type": "code",
   "execution_count": 74,
   "id": "56ef6145",
   "metadata": {},
   "outputs": [],
   "source": [
    "age2_set={11,34,32,211,12,10,24}"
   ]
  },
  {
   "cell_type": "code",
   "execution_count": 75,
   "id": "28678cce",
   "metadata": {},
   "outputs": [
    {
     "data": {
      "text/plain": [
       "False"
      ]
     },
     "execution_count": 75,
     "metadata": {},
     "output_type": "execute_result"
    }
   ],
   "source": [
    "age1_set.isdisjoint(age2_set)"
   ]
  },
  {
   "cell_type": "code",
   "execution_count": 76,
   "id": "f32e447f",
   "metadata": {},
   "outputs": [
    {
     "data": {
      "text/plain": [
       "True"
      ]
     },
     "execution_count": 76,
     "metadata": {},
     "output_type": "execute_result"
    }
   ],
   "source": [
    "{1,2,3}.isdisjoint({5,7,8})       # disjoint is uncommon data between many list of element"
   ]
  },
  {
   "cell_type": "code",
   "execution_count": 84,
   "id": "565cbe78",
   "metadata": {},
   "outputs": [
    {
     "name": "stdout",
     "output_type": "stream",
     "text": [
      "{1, 2, 3, 4, 5, 6, 7}\n"
     ]
    }
   ],
   "source": [
    "a={1,2,3}\n",
    "b={3,4,5,6,7}\n",
    "c={3,7,2,1}\n",
    "print(a.union(b))"
   ]
  },
  {
   "cell_type": "code",
   "execution_count": 85,
   "id": "57cc0b1f",
   "metadata": {},
   "outputs": [
    {
     "name": "stdout",
     "output_type": "stream",
     "text": [
      "{3}\n"
     ]
    }
   ],
   "source": [
    "#intersection\n",
    "print(a&b&c)"
   ]
  },
  {
   "cell_type": "code",
   "execution_count": 88,
   "id": "5358adfd",
   "metadata": {},
   "outputs": [
    {
     "name": "stdout",
     "output_type": "stream",
     "text": [
      "{1, 2}\n"
     ]
    }
   ],
   "source": [
    "#difference\n",
    "print(a-b)"
   ]
  },
  {
   "cell_type": "code",
   "execution_count": 89,
   "id": "f8e052b7",
   "metadata": {},
   "outputs": [
    {
     "name": "stdout",
     "output_type": "stream",
     "text": [
      "{4, 5, 6, 7}\n"
     ]
    }
   ],
   "source": [
    "print(b-a)"
   ]
  },
  {
   "cell_type": "code",
   "execution_count": null,
   "id": "5a818dad",
   "metadata": {},
   "outputs": [],
   "source": []
  }
 ],
 "metadata": {
  "kernelspec": {
   "display_name": "Python 3",
   "language": "python",
   "name": "python3"
  },
  "language_info": {
   "codemirror_mode": {
    "name": "ipython",
    "version": 3
   },
   "file_extension": ".py",
   "mimetype": "text/x-python",
   "name": "python",
   "nbconvert_exporter": "python",
   "pygments_lexer": "ipython3",
   "version": "3.8.8"
  }
 },
 "nbformat": 4,
 "nbformat_minor": 5
}
